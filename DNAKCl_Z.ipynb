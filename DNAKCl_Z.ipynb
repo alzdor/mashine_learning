{
  "nbformat": 4,
  "nbformat_minor": 0,
  "metadata": {
    "accelerator": "GPU",
    "colab": {
      "name": "Welcome To Colab",
      "provenance": [],
      "collapsed_sections": [],
      "toc_visible": true,
      "include_colab_link": true
    },
    "kernelspec": {
      "display_name": "Python 3",
      "name": "python3"
    }
  },
  "cells": [
    {
      "cell_type": "markdown",
      "metadata": {
        "id": "view-in-github",
        "colab_type": "text"
      },
      "source": [
        "<a href=\"https://colab.research.google.com/github/alzdor/mashine_learning/blob/DNAConductivity/DNAKCl_Z.ipynb\" target=\"_parent\"><img src=\"https://colab.research.google.com/assets/colab-badge.svg\" alt=\"Open In Colab\"/></a>"
      ]
    },
    {
      "cell_type": "code",
      "metadata": {
        "id": "iElxdmBq8j3x",
        "colab_type": "code",
        "colab": {
          "base_uri": "https://localhost:8080/",
          "height": 297
        },
        "outputId": "c30f8a46-3b64-4a4e-8e8f-d5c2f75be94b"
      },
      "source": [
        "import pandas as pd \n",
        "import numpy as np\n",
        "import matplotlib.pyplot as plt \n",
        "from sklearn.linear_model import LinearRegression\n",
        "\n",
        "def mean_current(file):\n",
        "  current = pd.read_table(file, sep=\"\\s+\", header=None)\n",
        "  meanCurrent = current.loc[:,1].mean()\n",
        "  return meanCurrent\n",
        "current100mV=mean_current(\"Current1_50.dat\")\n",
        "current200mV=mean_current(\"Current1_50_200mV.dat\")\n",
        "current400mV=mean_current(\"current1_50_400mV.dat\")\n",
        "current600mV=mean_current(\"current1_50_600mV.dat\")\n",
        "current1000mV=mean_current(\"Current1_50_1000mV.dat\")\n",
        "current1400mV=mean_current(\"current1_50_1400mV.dat\")\n",
        "IU = pd.DataFrame({'U': [100, 200, 400, 600, 1000, 1400] , 'I': [current100mV, current200mV, current400mV, current600mV, current1000mV, current1400mV]})\n",
        "mdl = LinearRegression().fit(IU[['U']],IU.I)\n",
        "a = mdl.coef_[0]\n",
        "b = mdl.intercept_\n",
        "\n",
        "plot1 = IU.plot.scatter(x='U', y='I', c='DarkBlue')\n",
        "plt.plot([0,1500],[b,a*1500+b],'r')\n",
        "plot1.set(xlabel=\"I,nA\", ylabel=\"U, mV\")"
      ],
      "execution_count": 27,
      "outputs": [
        {
          "output_type": "execute_result",
          "data": {
            "text/plain": [
              "[Text(0, 0.5, 'U, mV'), Text(0.5, 0, 'I,nA')]"
            ]
          },
          "metadata": {
            "tags": []
          },
          "execution_count": 27
        },
        {
          "output_type": "display_data",
          "data": {
            "image/png": "[encoded data removed]",
            "text/plain": [
              "<Figure size 432x288 with 1 Axes>"
            ]
          },
          "metadata": {
            "tags": []
          }
        }
      ]
    }
  ]
}